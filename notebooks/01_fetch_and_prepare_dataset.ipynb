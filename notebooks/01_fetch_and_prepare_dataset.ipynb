{
 "cells": [
  {
   "cell_type": "markdown",
   "id": "0443925c",
   "metadata": {},
   "source": [
    "# Notebook 01: Abruf & Aufbereitung der CVE-Daten\n",
    "\n",
    "Dieses Notebook:\n",
    "1. Initialisiert Pfade & Umgebung\n",
    "2. Liest optional `.env` für API Key / Kontakt\n",
    "3. Führt den inkrementellen CVE-Fetch aus (JSONL Append)\n",
    "4. Exportiert CSV-Dateien (CVSS v4.0 / v3.1 / v3.0 / v2)\n",
    "5. Zeigt Stichproben der CSVs\n",
    "\n",
    "---\n"
   ]
  },
  {
   "cell_type": "markdown",
   "id": "8292cff7",
   "metadata": {},
   "source": [
    "## 1. Initialisierung & Pfad-Setup\n",
    "Basisverzeichnisse & Skriptpfade festlegen\n"
   ]
  },
  {
   "cell_type": "code",
   "execution_count": 1,
   "id": "1dd76414",
   "metadata": {},
   "outputs": [
    {
     "name": "stdout",
     "output_type": "stream",
     "text": [
      "REPO_DIR: /home/konrad/projects/master/cve_severity_classifier\n",
      "RAW_DIR: /home/konrad/projects/master/cve_severity_classifier/data/raw\n",
      "CSV_OUT_DIR: /home/konrad/projects/master/cve_severity_classifier/data/raw\n",
      "FETCH_SCRIPT exists: True\n",
      "CSV_SCRIPT exists: True\n"
     ]
    }
   ],
   "source": [
    "from pathlib import Path\n",
    "import os\n",
    "import json\n",
    "import datetime as dt\n",
    "\n",
    "REPO_DIR = Path(\"..\").resolve()\n",
    "DATA_DIR = REPO_DIR / \"data\"\n",
    "RAW_DIR = DATA_DIR / \"raw\"\n",
    "SCRIPTS_DIR = REPO_DIR / \"scripts\"\n",
    "\n",
    "# Skripte\n",
    "FETCH_SCRIPT = SCRIPTS_DIR / \"nvd_cve_fetcher\" / \"nvd_cve_fetcher.py\"\n",
    "CSV_SCRIPT = SCRIPTS_DIR / \"cves_json_to_csv.py\"\n",
    "\n",
    "# CSV-Export Ziel (kann manuell überschrieben werden, Standard: RAW_DIR)\n",
    "CSV_OUT_DIR = os.getenv(\"CSV_OUT_DIR\", str(RAW_DIR))\n",
    "\n",
    "print(\"REPO_DIR:\", REPO_DIR)\n",
    "print(\"RAW_DIR:\", RAW_DIR)\n",
    "print(\"CSV_OUT_DIR:\", CSV_OUT_DIR)\n",
    "print(\"FETCH_SCRIPT exists:\", FETCH_SCRIPT.exists())\n",
    "print(\"CSV_SCRIPT exists:\", CSV_SCRIPT.exists())"
   ]
  },
  {
   "cell_type": "markdown",
   "id": "894fef15",
   "metadata": {},
   "source": [
    "## 2. Optionale Umgebungsvariablen (.env)\n",
    "Erkennung des API Keys und der Kontakt-E-Mail (falls vorhanden) für höheres Rate-Limit.\n"
   ]
  },
  {
   "cell_type": "code",
   "execution_count": 2,
   "id": "606fac3c",
   "metadata": {},
   "outputs": [
    {
     "name": "stdout",
     "output_type": "stream",
     "text": [
      ".env gefunden – Keys:\n",
      "  NVD_API_KEY: gesetzt\n",
      "  CONTACT_EMAIL: gesetzt\n"
     ]
    }
   ],
   "source": [
    "from dotenv import dotenv_values\n",
    "ENV_PATH = REPO_DIR / \".env\"\n",
    "if ENV_PATH.exists():\n",
    "    env_vals = dotenv_values(str(ENV_PATH))\n",
    "    print(\".env gefunden – Keys:\")\n",
    "    for k in (\"NVD_API_KEY\", \"CONTACT_EMAIL\"):\n",
    "        val = env_vals.get(k)\n",
    "        print(f\"  {k}: {'gesetzt' if val else '—'}\")\n",
    "else:\n",
    "    print(\".env nicht gefunden – es wird ohne API Key gearbeitet (langsameres Rate-Limit).\")"
   ]
  },
  {
   "cell_type": "markdown",
   "id": "9c865d38",
   "metadata": {},
   "source": [
    "## 3. CVE-Fetch ausführen\n",
    "Start des inkrementellen Fetchers (inkl. Update-Logik & Interval-Kontrolle).\n"
   ]
  },
  {
   "cell_type": "code",
   "execution_count": 3,
   "id": "271d61df",
   "metadata": {},
   "outputs": [
    {
     "name": "stdout",
     "output_type": "stream",
     "text": [
      "Starte Fetcher … dies kann je nach Netzwerk/Rate-Limit dauern.\n"
     ]
    },
    {
     "name": "stderr",
     "output_type": "stream",
     "text": [
      "[2025-09-13 20:26:14] [INFO] NVD CVE Fetcher for CVE Severity Classification (Prototyp)\n",
      "[2025-09-13 20:26:14] [INFO] ================== Konfiguration ==================\n",
      "[2025-09-13 20:26:14] [INFO] Zeitraum: 1999-01-01 -> 2025-09-13\n",
      "[2025-09-13 20:26:14] [INFO] API Key: JA\n",
      "[2025-09-13 20:26:14] [INFO] Kontakt: konrad.eckhardt@mni.thm.de\n",
      "[2025-09-13 20:26:14] [INFO] User-Agent: nvd_cve_fetcher/1.0 (+mailto:konrad.eckhardt@mni.thm.de)\n",
      "[2025-09-13 20:26:14] [INFO] Limit: 50/30s\n",
      "[2025-09-13 20:26:14] [INFO] Basis-Schlaf: 1.00s (Jitter bis 0.30s)\n",
      "[2025-09-13 20:26:14] [INFO] Fenster: erlaubt 120 | genutzt 120\n",
      "[2025-09-13 20:26:14] [INFO] Results/Page: erlaubt 2000 | genutzt 2000\n",
      "[2025-09-13 20:26:14] [INFO] Output: data/raw/cves.jsonl\n",
      "[2025-09-13 20:26:14] [INFO] ===================================================\n",
      "[2025-09-13 20:26:14] [INFO] Start in 2s\n",
      "Traceback (most recent call last):\n",
      "  File \"/home/konrad/projects/master/cve_severity_classifier/scripts/nvd_cve_fetcher/nvd_cve_fetcher.py\", line 961, in <module>\n",
      "    sys.exit(run())\n",
      "             ^^^^^\n",
      "  File \"/home/konrad/projects/master/cve_severity_classifier/scripts/nvd_cve_fetcher/nvd_cve_fetcher.py\", line 811, in run\n",
      "    last_state_mod = parse_nvd_timestamp(ls)\n",
      "                     ^^^^^^^^^^^^^^^^^^^^^^^\n",
      "  File \"/home/konrad/projects/master/cve_severity_classifier/scripts/nvd_cve_fetcher/nvd_cve_fetcher.py\", line 167, in parse_nvd_timestamp\n",
      "    return dt.datetime.strptime(s, fmt)\n",
      "           ^^^^^^^^^^^^^^^^^^^^^^^^^^^^\n",
      "  File \"/usr/local/lib/python3.12/_strptime.py\", line 268, in <module>\n",
      "    _TimeRE_cache = TimeRE()\n",
      "                    ^^^^^^^^\n",
      "  File \"/usr/local/lib/python3.12/_strptime.py\", line 182, in __init__\n",
      "    self.locale_time = LocaleTime()\n",
      "                       ^^^^^^^^^^^^\n",
      "  File \"/usr/local/lib/python3.12/_strptime.py\", line 72, in __init__\n",
      "    self.__calc_am_pm()\n",
      "  File \"/usr/local/lib/python3.12/_strptime.py\", line 103, in __calc_am_pm\n",
      "    time_tuple = time.struct_time((1999,3,17,hour,44,55,2,76,0))\n",
      "                 ^^^^^^^^^^^^^^^^^^^^^^^^^^^^^^^^^^^^^^^^^^^^^^^\n",
      "KeyboardInterrupt\n"
     ]
    },
    {
     "ename": "KeyboardInterrupt",
     "evalue": "",
     "output_type": "error",
     "traceback": [
      "\u001b[31m---------------------------------------------------------------------------\u001b[39m",
      "\u001b[31mKeyboardInterrupt\u001b[39m                         Traceback (most recent call last)",
      "\u001b[36mCell\u001b[39m\u001b[36m \u001b[39m\u001b[32mIn[3]\u001b[39m\u001b[32m, line 5\u001b[39m\n\u001b[32m      2\u001b[39m \u001b[38;5;28;01mimport\u001b[39;00m\u001b[38;5;250m \u001b[39m\u001b[34;01msubprocess\u001b[39;00m,\u001b[38;5;250m \u001b[39m\u001b[34;01msys\u001b[39;00m,\u001b[38;5;250m \u001b[39m\u001b[34;01mos\u001b[39;00m\n\u001b[32m      4\u001b[39m \u001b[38;5;28mprint\u001b[39m(\u001b[33m\"\u001b[39m\u001b[33mStarte Fetcher … dies kann je nach Netzwerk/Rate-Limit dauern.\u001b[39m\u001b[33m\"\u001b[39m)\n\u001b[32m----> \u001b[39m\u001b[32m5\u001b[39m ret = \u001b[43msubprocess\u001b[49m\u001b[43m.\u001b[49m\u001b[43mrun\u001b[49m\u001b[43m(\u001b[49m\u001b[43m[\u001b[49m\u001b[43msys\u001b[49m\u001b[43m.\u001b[49m\u001b[43mexecutable\u001b[49m\u001b[43m,\u001b[49m\u001b[43m \u001b[49m\u001b[38;5;28;43mstr\u001b[39;49m\u001b[43m(\u001b[49m\u001b[43mFETCH_SCRIPT\u001b[49m\u001b[43m)\u001b[49m\u001b[43m]\u001b[49m\u001b[43m,\u001b[49m\u001b[43m \u001b[49m\u001b[43mcwd\u001b[49m\u001b[43m=\u001b[49m\u001b[38;5;28;43mstr\u001b[39;49m\u001b[43m(\u001b[49m\u001b[43mREPO_DIR\u001b[49m\u001b[43m)\u001b[49m\u001b[43m)\u001b[49m\n\u001b[32m      6\u001b[39m \u001b[38;5;28mprint\u001b[39m(\u001b[33m\"\u001b[39m\u001b[33mFetcher Exit-Code:\u001b[39m\u001b[33m\"\u001b[39m, ret.returncode)\n\u001b[32m      7\u001b[39m \u001b[38;5;28;01massert\u001b[39;00m ret.returncode \u001b[38;5;129;01min\u001b[39;00m (\u001b[32m0\u001b[39m, \u001b[32m130\u001b[39m), \u001b[33m\"\u001b[39m\u001b[33mFetcher fehlgeschlagen\u001b[39m\u001b[33m\"\u001b[39m\n",
      "\u001b[36mFile \u001b[39m\u001b[32m/usr/local/lib/python3.12/subprocess.py:550\u001b[39m, in \u001b[36mrun\u001b[39m\u001b[34m(input, capture_output, timeout, check, *popenargs, **kwargs)\u001b[39m\n\u001b[32m    548\u001b[39m \u001b[38;5;28;01mwith\u001b[39;00m Popen(*popenargs, **kwargs) \u001b[38;5;28;01mas\u001b[39;00m process:\n\u001b[32m    549\u001b[39m     \u001b[38;5;28;01mtry\u001b[39;00m:\n\u001b[32m--> \u001b[39m\u001b[32m550\u001b[39m         stdout, stderr = \u001b[43mprocess\u001b[49m\u001b[43m.\u001b[49m\u001b[43mcommunicate\u001b[49m\u001b[43m(\u001b[49m\u001b[38;5;28;43minput\u001b[39;49m\u001b[43m,\u001b[49m\u001b[43m \u001b[49m\u001b[43mtimeout\u001b[49m\u001b[43m=\u001b[49m\u001b[43mtimeout\u001b[49m\u001b[43m)\u001b[49m\n\u001b[32m    551\u001b[39m     \u001b[38;5;28;01mexcept\u001b[39;00m TimeoutExpired \u001b[38;5;28;01mas\u001b[39;00m exc:\n\u001b[32m    552\u001b[39m         process.kill()\n",
      "\u001b[36mFile \u001b[39m\u001b[32m/usr/local/lib/python3.12/subprocess.py:1201\u001b[39m, in \u001b[36mPopen.communicate\u001b[39m\u001b[34m(self, input, timeout)\u001b[39m\n\u001b[32m   1199\u001b[39m         stderr = \u001b[38;5;28mself\u001b[39m.stderr.read()\n\u001b[32m   1200\u001b[39m         \u001b[38;5;28mself\u001b[39m.stderr.close()\n\u001b[32m-> \u001b[39m\u001b[32m1201\u001b[39m     \u001b[38;5;28;43mself\u001b[39;49m\u001b[43m.\u001b[49m\u001b[43mwait\u001b[49m\u001b[43m(\u001b[49m\u001b[43m)\u001b[49m\n\u001b[32m   1202\u001b[39m \u001b[38;5;28;01melse\u001b[39;00m:\n\u001b[32m   1203\u001b[39m     \u001b[38;5;28;01mif\u001b[39;00m timeout \u001b[38;5;129;01mis\u001b[39;00m \u001b[38;5;129;01mnot\u001b[39;00m \u001b[38;5;28;01mNone\u001b[39;00m:\n",
      "\u001b[36mFile \u001b[39m\u001b[32m/usr/local/lib/python3.12/subprocess.py:1264\u001b[39m, in \u001b[36mPopen.wait\u001b[39m\u001b[34m(self, timeout)\u001b[39m\n\u001b[32m   1262\u001b[39m     endtime = _time() + timeout\n\u001b[32m   1263\u001b[39m \u001b[38;5;28;01mtry\u001b[39;00m:\n\u001b[32m-> \u001b[39m\u001b[32m1264\u001b[39m     \u001b[38;5;28;01mreturn\u001b[39;00m \u001b[38;5;28;43mself\u001b[39;49m\u001b[43m.\u001b[49m\u001b[43m_wait\u001b[49m\u001b[43m(\u001b[49m\u001b[43mtimeout\u001b[49m\u001b[43m=\u001b[49m\u001b[43mtimeout\u001b[49m\u001b[43m)\u001b[49m\n\u001b[32m   1265\u001b[39m \u001b[38;5;28;01mexcept\u001b[39;00m \u001b[38;5;167;01mKeyboardInterrupt\u001b[39;00m:\n\u001b[32m   1266\u001b[39m     \u001b[38;5;66;03m# https://bugs.python.org/issue25942\u001b[39;00m\n\u001b[32m   1267\u001b[39m     \u001b[38;5;66;03m# The first keyboard interrupt waits briefly for the child to\u001b[39;00m\n\u001b[32m   1268\u001b[39m     \u001b[38;5;66;03m# exit under the common assumption that it also received the ^C\u001b[39;00m\n\u001b[32m   1269\u001b[39m     \u001b[38;5;66;03m# generated SIGINT and will exit rapidly.\u001b[39;00m\n\u001b[32m   1270\u001b[39m     \u001b[38;5;28;01mif\u001b[39;00m timeout \u001b[38;5;129;01mis\u001b[39;00m \u001b[38;5;129;01mnot\u001b[39;00m \u001b[38;5;28;01mNone\u001b[39;00m:\n",
      "\u001b[36mFile \u001b[39m\u001b[32m/usr/local/lib/python3.12/subprocess.py:2053\u001b[39m, in \u001b[36mPopen._wait\u001b[39m\u001b[34m(self, timeout)\u001b[39m\n\u001b[32m   2051\u001b[39m \u001b[38;5;28;01mif\u001b[39;00m \u001b[38;5;28mself\u001b[39m.returncode \u001b[38;5;129;01mis\u001b[39;00m \u001b[38;5;129;01mnot\u001b[39;00m \u001b[38;5;28;01mNone\u001b[39;00m:\n\u001b[32m   2052\u001b[39m     \u001b[38;5;28;01mbreak\u001b[39;00m  \u001b[38;5;66;03m# Another thread waited.\u001b[39;00m\n\u001b[32m-> \u001b[39m\u001b[32m2053\u001b[39m (pid, sts) = \u001b[38;5;28;43mself\u001b[39;49m\u001b[43m.\u001b[49m\u001b[43m_try_wait\u001b[49m\u001b[43m(\u001b[49m\u001b[32;43m0\u001b[39;49m\u001b[43m)\u001b[49m\n\u001b[32m   2054\u001b[39m \u001b[38;5;66;03m# Check the pid and loop as waitpid has been known to\u001b[39;00m\n\u001b[32m   2055\u001b[39m \u001b[38;5;66;03m# return 0 even without WNOHANG in odd situations.\u001b[39;00m\n\u001b[32m   2056\u001b[39m \u001b[38;5;66;03m# http://bugs.python.org/issue14396.\u001b[39;00m\n\u001b[32m   2057\u001b[39m \u001b[38;5;28;01mif\u001b[39;00m pid == \u001b[38;5;28mself\u001b[39m.pid:\n",
      "\u001b[36mFile \u001b[39m\u001b[32m/usr/local/lib/python3.12/subprocess.py:2011\u001b[39m, in \u001b[36mPopen._try_wait\u001b[39m\u001b[34m(self, wait_flags)\u001b[39m\n\u001b[32m   2009\u001b[39m \u001b[38;5;250m\u001b[39m\u001b[33;03m\"\"\"All callers to this function MUST hold self._waitpid_lock.\"\"\"\u001b[39;00m\n\u001b[32m   2010\u001b[39m \u001b[38;5;28;01mtry\u001b[39;00m:\n\u001b[32m-> \u001b[39m\u001b[32m2011\u001b[39m     (pid, sts) = \u001b[43mos\u001b[49m\u001b[43m.\u001b[49m\u001b[43mwaitpid\u001b[49m\u001b[43m(\u001b[49m\u001b[38;5;28;43mself\u001b[39;49m\u001b[43m.\u001b[49m\u001b[43mpid\u001b[49m\u001b[43m,\u001b[49m\u001b[43m \u001b[49m\u001b[43mwait_flags\u001b[49m\u001b[43m)\u001b[49m\n\u001b[32m   2012\u001b[39m \u001b[38;5;28;01mexcept\u001b[39;00m \u001b[38;5;167;01mChildProcessError\u001b[39;00m:\n\u001b[32m   2013\u001b[39m     \u001b[38;5;66;03m# This happens if SIGCLD is set to be ignored or waiting\u001b[39;00m\n\u001b[32m   2014\u001b[39m     \u001b[38;5;66;03m# for child processes has otherwise been disabled for our\u001b[39;00m\n\u001b[32m   2015\u001b[39m     \u001b[38;5;66;03m# process.  This child is dead, we can't get the status.\u001b[39;00m\n\u001b[32m   2016\u001b[39m     pid = \u001b[38;5;28mself\u001b[39m.pid\n",
      "\u001b[31mKeyboardInterrupt\u001b[39m: "
     ]
    }
   ],
   "source": [
    "# Fetcher ausführen\n",
    "import subprocess, sys, os\n",
    "\n",
    "print(\"Starte Fetcher … dies kann je nach Netzwerk/Rate-Limit dauern.\")\n",
    "ret = subprocess.run([sys.executable, str(FETCH_SCRIPT)], cwd=str(REPO_DIR))\n",
    "print(\"Fetcher Exit-Code:\", ret.returncode)\n",
    "assert ret.returncode in (0, 130), \"Fetcher fehlgeschlagen\""
   ]
  },
  {
   "cell_type": "markdown",
   "id": "a12aaeba",
   "metadata": {},
   "source": [
    "## 4. CSV-Export erzeugen\n",
    "Konvertierung der zeilenbasierten JSONL-Sammlung in versions-spezifische CSV-Dateien.\n"
   ]
  },
  {
   "cell_type": "code",
   "execution_count": 4,
   "id": "daeac388",
   "metadata": {},
   "outputs": [
    {
     "name": "stdout",
     "output_type": "stream",
     "text": [
      "Starte CSV-Export …\n"
     ]
    },
    {
     "name": "stderr",
     "output_type": "stream",
     "text": [
      "[2025-09-13 20:26:20] [INFO] Start Konvertierung: input=data/raw/cves.jsonl out_dir=data/raw\n",
      "[2025-09-13 20:26:21] [INFO] Progress: 10000 CVEs verarbeitet\n",
      "[2025-09-13 20:26:21] [INFO] Progress: 20000 CVEs verarbeitet\n",
      "[2025-09-13 20:26:21] [INFO] Progress: 30000 CVEs verarbeitet\n",
      "[2025-09-13 20:26:21] [INFO] Progress: 40000 CVEs verarbeitet\n",
      "[2025-09-13 20:26:22] [INFO] Progress: 50000 CVEs verarbeitet\n",
      "[2025-09-13 20:26:22] [INFO] Progress: 60000 CVEs verarbeitet\n",
      "[2025-09-13 20:26:22] [INFO] Progress: 70000 CVEs verarbeitet\n",
      "[2025-09-13 20:26:23] [INFO] Progress: 80000 CVEs verarbeitet\n",
      "[2025-09-13 20:26:23] [INFO] Progress: 90000 CVEs verarbeitet\n",
      "[2025-09-13 20:26:23] [INFO] Progress: 100000 CVEs verarbeitet\n",
      "[2025-09-13 20:26:24] [INFO] Progress: 110000 CVEs verarbeitet\n",
      "[2025-09-13 20:26:25] [INFO] Progress: 120000 CVEs verarbeitet\n",
      "[2025-09-13 20:26:25] [INFO] Progress: 130000 CVEs verarbeitet\n",
      "[2025-09-13 20:26:26] [INFO] Progress: 140000 CVEs verarbeitet\n",
      "[2025-09-13 20:26:27] [INFO] Progress: 150000 CVEs verarbeitet\n",
      "[2025-09-13 20:26:27] [INFO] Progress: 160000 CVEs verarbeitet\n",
      "[2025-09-13 20:26:28] [INFO] Progress: 170000 CVEs verarbeitet\n",
      "[2025-09-13 20:26:28] [INFO] Progress: 180000 CVEs verarbeitet\n",
      "[2025-09-13 20:26:29] [INFO] Progress: 190000 CVEs verarbeitet\n",
      "[2025-09-13 20:26:29] [INFO] Progress: 200000 CVEs verarbeitet\n",
      "[2025-09-13 20:26:30] [INFO] Progress: 210000 CVEs verarbeitet\n",
      "[2025-09-13 20:26:30] [INFO] Progress: 220000 CVEs verarbeitet\n",
      "[2025-09-13 20:26:30] [INFO] Progress: 230000 CVEs verarbeitet\n",
      "[2025-09-13 20:26:31] [INFO] Progress: 240000 CVEs verarbeitet\n",
      "[2025-09-13 20:26:31] [INFO] Progress: 250000 CVEs verarbeitet\n",
      "[2025-09-13 20:26:32] [INFO] Progress: 260000 CVEs verarbeitet\n",
      "[2025-09-13 20:26:32] [INFO] Progress: 270000 CVEs verarbeitet\n",
      "[2025-09-13 20:26:33] [INFO] Progress: 280000 CVEs verarbeitet\n",
      "[2025-09-13 20:26:33] [INFO] Progress: 290000 CVEs verarbeitet\n",
      "[2025-09-13 20:26:34] [INFO] Progress: 300000 CVEs verarbeitet\n"
     ]
    },
    {
     "name": "stdout",
     "output_type": "stream",
     "text": [
      "CSV Exit-Code: 0\n"
     ]
    },
    {
     "name": "stderr",
     "output_type": "stream",
     "text": [
      "[2025-09-13 20:26:34] [INFO] v40: 11712 Zeilen\n",
      "[2025-09-13 20:26:34] [INFO] v31: 172908 Zeilen\n",
      "[2025-09-13 20:26:34] [INFO] v30: 53856 Zeilen\n",
      "[2025-09-13 20:26:34] [INFO] v2: 188645 Zeilen\n",
      "[2025-09-13 20:26:34] [INFO] Fertig: total=308736\n"
     ]
    }
   ],
   "source": [
    "# Vorverarbeitung / CSV-Export\n",
    "import subprocess, sys\n",
    "\n",
    "print(\"Starte CSV-Export …\")\n",
    "# Skript nutzt interne Config (INPUT/OUT_DIR). Falls anderes Verzeichnis gewünscht, Config im Skript anpassen.\n",
    "ret_csv = subprocess.run([sys.executable, str(CSV_SCRIPT)], cwd=str(REPO_DIR))\n",
    "print(\"CSV Exit-Code:\", ret_csv.returncode)\n",
    "assert ret_csv.returncode == 0, \"CSV-Export fehlgeschlagen\""
   ]
  },
  {
   "cell_type": "markdown",
   "id": "9dc77bb2",
   "metadata": {},
   "source": [
    "## 5. Stichprobenanzeige der CSVs\n",
    "Kurzer Blick auf die ersten Zeilen jeder erzeugten CSV zur Validierung.\n"
   ]
  },
  {
   "cell_type": "code",
   "execution_count": 5,
   "id": "6c1f6af6",
   "metadata": {},
   "outputs": [
    {
     "name": "stdout",
     "output_type": "stream",
     "text": [
      "Vorschau: cves_v40.csv\n"
     ]
    },
    {
     "data": {
      "text/html": [
       "<div>\n",
       "<style scoped>\n",
       "    .dataframe tbody tr th:only-of-type {\n",
       "        vertical-align: middle;\n",
       "    }\n",
       "\n",
       "    .dataframe tbody tr th {\n",
       "        vertical-align: top;\n",
       "    }\n",
       "\n",
       "    .dataframe thead th {\n",
       "        text-align: right;\n",
       "    }\n",
       "</style>\n",
       "<table border=\"1\" class=\"dataframe\">\n",
       "  <thead>\n",
       "    <tr style=\"text-align: right;\">\n",
       "      <th></th>\n",
       "      <th>cve_id</th>\n",
       "      <th>severity</th>\n",
       "      <th>description</th>\n",
       "    </tr>\n",
       "  </thead>\n",
       "  <tbody>\n",
       "    <tr>\n",
       "      <th>0</th>\n",
       "      <td>CVE-2017-2680</td>\n",
       "      <td>HIGH</td>\n",
       "      <td>Specially crafted PROFINET DCP broadcast packe...</td>\n",
       "    </tr>\n",
       "    <tr>\n",
       "      <th>1</th>\n",
       "      <td>CVE-2017-2681</td>\n",
       "      <td>HIGH</td>\n",
       "      <td>Specially crafted PROFINET DCP packets sent on...</td>\n",
       "    </tr>\n",
       "    <tr>\n",
       "      <th>2</th>\n",
       "      <td>CVE-2017-12741</td>\n",
       "      <td>HIGH</td>\n",
       "      <td>Specially crafted packets sent to port 161/udp...</td>\n",
       "    </tr>\n",
       "    <tr>\n",
       "      <th>3</th>\n",
       "      <td>CVE-2019-13939</td>\n",
       "      <td>HIGH</td>\n",
       "      <td>A vulnerability has been identified in APOGEE ...</td>\n",
       "    </tr>\n",
       "    <tr>\n",
       "      <th>4</th>\n",
       "      <td>CVE-2020-8899</td>\n",
       "      <td>CRITICAL</td>\n",
       "      <td>There is a buffer overwrite vulnerability in t...</td>\n",
       "    </tr>\n",
       "  </tbody>\n",
       "</table>\n",
       "</div>"
      ],
      "text/plain": [
       "           cve_id  severity                                        description\n",
       "0   CVE-2017-2680      HIGH  Specially crafted PROFINET DCP broadcast packe...\n",
       "1   CVE-2017-2681      HIGH  Specially crafted PROFINET DCP packets sent on...\n",
       "2  CVE-2017-12741      HIGH  Specially crafted packets sent to port 161/udp...\n",
       "3  CVE-2019-13939      HIGH  A vulnerability has been identified in APOGEE ...\n",
       "4   CVE-2020-8899  CRITICAL  There is a buffer overwrite vulnerability in t..."
      ]
     },
     "metadata": {},
     "output_type": "display_data"
    },
    {
     "name": "stdout",
     "output_type": "stream",
     "text": [
      "Vorschau: cves_v31.csv\n"
     ]
    },
    {
     "data": {
      "text/html": [
       "<div>\n",
       "<style scoped>\n",
       "    .dataframe tbody tr th:only-of-type {\n",
       "        vertical-align: middle;\n",
       "    }\n",
       "\n",
       "    .dataframe tbody tr th {\n",
       "        vertical-align: top;\n",
       "    }\n",
       "\n",
       "    .dataframe thead th {\n",
       "        text-align: right;\n",
       "    }\n",
       "</style>\n",
       "<table border=\"1\" class=\"dataframe\">\n",
       "  <thead>\n",
       "    <tr style=\"text-align: right;\">\n",
       "      <th></th>\n",
       "      <th>cve_id</th>\n",
       "      <th>severity</th>\n",
       "      <th>description</th>\n",
       "    </tr>\n",
       "  </thead>\n",
       "  <tbody>\n",
       "    <tr>\n",
       "      <th>0</th>\n",
       "      <td>CVE-1999-1568</td>\n",
       "      <td>HIGH</td>\n",
       "      <td>Off-by-one error in NcFTPd FTP server before 2...</td>\n",
       "    </tr>\n",
       "    <tr>\n",
       "      <th>1</th>\n",
       "      <td>CVE-1999-0426</td>\n",
       "      <td>CRITICAL</td>\n",
       "      <td>The default permissions of /dev/kmem in Linux ...</td>\n",
       "    </tr>\n",
       "    <tr>\n",
       "      <th>2</th>\n",
       "      <td>CVE-1999-1549</td>\n",
       "      <td>HIGH</td>\n",
       "      <td>Lynx 2.x does not properly distinguish between...</td>\n",
       "    </tr>\n",
       "    <tr>\n",
       "      <th>3</th>\n",
       "      <td>CVE-1999-1127</td>\n",
       "      <td>HIGH</td>\n",
       "      <td>Windows NT 4.0 does not properly shut down inv...</td>\n",
       "    </tr>\n",
       "    <tr>\n",
       "      <th>4</th>\n",
       "      <td>CVE-1999-1324</td>\n",
       "      <td>CRITICAL</td>\n",
       "      <td>VAXstations running Open VMS 5.3 through 5.5-2...</td>\n",
       "    </tr>\n",
       "  </tbody>\n",
       "</table>\n",
       "</div>"
      ],
      "text/plain": [
       "          cve_id  severity                                        description\n",
       "0  CVE-1999-1568      HIGH  Off-by-one error in NcFTPd FTP server before 2...\n",
       "1  CVE-1999-0426  CRITICAL  The default permissions of /dev/kmem in Linux ...\n",
       "2  CVE-1999-1549      HIGH  Lynx 2.x does not properly distinguish between...\n",
       "3  CVE-1999-1127      HIGH  Windows NT 4.0 does not properly shut down inv...\n",
       "4  CVE-1999-1324  CRITICAL  VAXstations running Open VMS 5.3 through 5.5-2..."
      ]
     },
     "metadata": {},
     "output_type": "display_data"
    },
    {
     "name": "stdout",
     "output_type": "stream",
     "text": [
      "Vorschau: cves_v30.csv\n"
     ]
    },
    {
     "data": {
      "text/html": [
       "<div>\n",
       "<style scoped>\n",
       "    .dataframe tbody tr th:only-of-type {\n",
       "        vertical-align: middle;\n",
       "    }\n",
       "\n",
       "    .dataframe tbody tr th {\n",
       "        vertical-align: top;\n",
       "    }\n",
       "\n",
       "    .dataframe thead th {\n",
       "        text-align: right;\n",
       "    }\n",
       "</style>\n",
       "<table border=\"1\" class=\"dataframe\">\n",
       "  <thead>\n",
       "    <tr style=\"text-align: right;\">\n",
       "      <th></th>\n",
       "      <th>cve_id</th>\n",
       "      <th>severity</th>\n",
       "      <th>description</th>\n",
       "    </tr>\n",
       "  </thead>\n",
       "  <tbody>\n",
       "    <tr>\n",
       "      <th>0</th>\n",
       "      <td>CVE-2000-0258</td>\n",
       "      <td>HIGH</td>\n",
       "      <td>IIS 4.0 and 5.0 allows remote attackers to cau...</td>\n",
       "    </tr>\n",
       "    <tr>\n",
       "      <th>1</th>\n",
       "      <td>CVE-2004-0847</td>\n",
       "      <td>CRITICAL</td>\n",
       "      <td>The Microsoft .NET forms authentication capabi...</td>\n",
       "    </tr>\n",
       "    <tr>\n",
       "      <th>2</th>\n",
       "      <td>CVE-2005-0109</td>\n",
       "      <td>MEDIUM</td>\n",
       "      <td>Hyper-Threading technology, as used in FreeBSD...</td>\n",
       "    </tr>\n",
       "    <tr>\n",
       "      <th>3</th>\n",
       "      <td>CVE-2006-1364</td>\n",
       "      <td>HIGH</td>\n",
       "      <td>Microsoft w3wp (aka w3wp.exe) does not properl...</td>\n",
       "    </tr>\n",
       "    <tr>\n",
       "      <th>4</th>\n",
       "      <td>CVE-2006-5847</td>\n",
       "      <td>MEDIUM</td>\n",
       "      <td>Cross-site scripting (XSS) vulnerability in in...</td>\n",
       "    </tr>\n",
       "  </tbody>\n",
       "</table>\n",
       "</div>"
      ],
      "text/plain": [
       "          cve_id  severity                                        description\n",
       "0  CVE-2000-0258      HIGH  IIS 4.0 and 5.0 allows remote attackers to cau...\n",
       "1  CVE-2004-0847  CRITICAL  The Microsoft .NET forms authentication capabi...\n",
       "2  CVE-2005-0109    MEDIUM  Hyper-Threading technology, as used in FreeBSD...\n",
       "3  CVE-2006-1364      HIGH  Microsoft w3wp (aka w3wp.exe) does not properl...\n",
       "4  CVE-2006-5847    MEDIUM  Cross-site scripting (XSS) vulnerability in in..."
      ]
     },
     "metadata": {},
     "output_type": "display_data"
    },
    {
     "name": "stdout",
     "output_type": "stream",
     "text": [
      "Vorschau: cves_v2.csv\n"
     ]
    },
    {
     "data": {
      "text/html": [
       "<div>\n",
       "<style scoped>\n",
       "    .dataframe tbody tr th:only-of-type {\n",
       "        vertical-align: middle;\n",
       "    }\n",
       "\n",
       "    .dataframe tbody tr th {\n",
       "        vertical-align: top;\n",
       "    }\n",
       "\n",
       "    .dataframe thead th {\n",
       "        text-align: right;\n",
       "    }\n",
       "</style>\n",
       "<table border=\"1\" class=\"dataframe\">\n",
       "  <thead>\n",
       "    <tr style=\"text-align: right;\">\n",
       "      <th></th>\n",
       "      <th>cve_id</th>\n",
       "      <th>severity</th>\n",
       "      <th>description</th>\n",
       "    </tr>\n",
       "  </thead>\n",
       "  <tbody>\n",
       "    <tr>\n",
       "      <th>0</th>\n",
       "      <td>CVE-1999-0197</td>\n",
       "      <td>HIGH</td>\n",
       "      <td>finger 0@host on some systems may print inform...</td>\n",
       "    </tr>\n",
       "    <tr>\n",
       "      <th>1</th>\n",
       "      <td>CVE-1999-0198</td>\n",
       "      <td>HIGH</td>\n",
       "      <td>finger .@host on some systems may print inform...</td>\n",
       "    </tr>\n",
       "    <tr>\n",
       "      <th>2</th>\n",
       "      <td>CVE-1999-0200</td>\n",
       "      <td>HIGH</td>\n",
       "      <td>Windows NT FTP server (WFTP) with the guest ac...</td>\n",
       "    </tr>\n",
       "    <tr>\n",
       "      <th>3</th>\n",
       "      <td>CVE-1999-0205</td>\n",
       "      <td>MEDIUM</td>\n",
       "      <td>Denial of service in Sendmail 8.6.11 and 8.6.12.</td>\n",
       "    </tr>\n",
       "    <tr>\n",
       "      <th>4</th>\n",
       "      <td>CVE-1999-0220</td>\n",
       "      <td>HIGH</td>\n",
       "      <td>Attackers can do a denial of service of IRC by...</td>\n",
       "    </tr>\n",
       "  </tbody>\n",
       "</table>\n",
       "</div>"
      ],
      "text/plain": [
       "          cve_id severity                                        description\n",
       "0  CVE-1999-0197     HIGH  finger 0@host on some systems may print inform...\n",
       "1  CVE-1999-0198     HIGH  finger .@host on some systems may print inform...\n",
       "2  CVE-1999-0200     HIGH  Windows NT FTP server (WFTP) with the guest ac...\n",
       "3  CVE-1999-0205   MEDIUM   Denial of service in Sendmail 8.6.11 and 8.6.12.\n",
       "4  CVE-1999-0220     HIGH  Attackers can do a denial of service of IRC by..."
      ]
     },
     "metadata": {},
     "output_type": "display_data"
    }
   ],
   "source": [
    "# Datensatz-Stichprobe anzeigen\n",
    "import pandas as pd\n",
    "from pathlib import Path\n",
    "\n",
    "out_dir = Path(CSV_OUT_DIR)\n",
    "for name in [\"cves_v40.csv\", \"cves_v31.csv\", \"cves_v30.csv\", \"cves_v2.csv\"]:\n",
    "    p = out_dir / name\n",
    "    if p.exists():\n",
    "        print(\"Vorschau:\", name)\n",
    "        display(pd.read_csv(p, nrows=5))\n",
    "    else:\n",
    "        print(\"Nicht gefunden:\", p)"
   ]
  },
  {
   "cell_type": "markdown",
   "id": "aa889493",
   "metadata": {},
   "source": [
    "## 6. Nächste Schritte\n",
    "- Wechsel zu Notebook 02 (Preprocessing)\n",
    "- Zuschnitt auf Beschreibung → Severity\n"
   ]
  }
 ],
 "metadata": {
  "kernelspec": {
   "display_name": ".venv (3.12.3)",
   "language": "python",
   "name": "python3"
  },
  "language_info": {
   "codemirror_mode": {
    "name": "ipython",
    "version": 3
   },
   "file_extension": ".py",
   "mimetype": "text/x-python",
   "name": "python",
   "nbconvert_exporter": "python",
   "pygments_lexer": "ipython3",
   "version": "3.12.3"
  }
 },
 "nbformat": 4,
 "nbformat_minor": 5
}
