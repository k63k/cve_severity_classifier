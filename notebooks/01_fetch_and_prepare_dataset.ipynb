{
 "cells": [
  {
   "cell_type": "markdown",
   "id": "0443925c",
   "metadata": {},
   "source": [
    "# CVE-Datensatz: Abruf und CSV-Export\n",
    "\n",
    "> Dieses Notebook ruft über das Fetcher-Skript die CVE-Daten (NVD CVE API v2.0) ab, speichert sie zeilenbasiert (JSONL) und erzeugt daraus versionsspezifische CSV-Dateien mit CVSS-Metriken (v4.0 / v3.1 / v3.0 / v2)."
   ]
  },
  {
   "cell_type": "code",
   "execution_count": null,
   "id": "1dd76414",
   "metadata": {},
   "outputs": [],
   "source": [
    "from pathlib import Path\n",
    "import os\n",
    "import json\n",
    "import datetime as dt\n",
    "\n",
    "REPO_DIR = Path(\"..\").resolve()\n",
    "DATA_DIR = REPO_DIR / \"data\"\n",
    "RAW_DIR = DATA_DIR / \"raw\"\n",
    "SCRIPTS_DIR = REPO_DIR / \"scripts\"\n",
    "\n",
    "# Skripte\n",
    "FETCH_SCRIPT = SCRIPTS_DIR / \"nvd_cve_fetcher\" / \"nvd_cve_fetcher.py\"\n",
    "CSV_SCRIPT = SCRIPTS_DIR / \"cves_json_to_csv.py\"\n",
    "\n",
    "# CSV-Export Ziel (kann manuell überschrieben werden, Standard: RAW_DIR)\n",
    "CSV_OUT_DIR = os.getenv(\"CSV_OUT_DIR\", str(RAW_DIR))\n",
    "\n",
    "print(\"REPO_DIR:\", REPO_DIR)\n",
    "print(\"RAW_DIR:\", RAW_DIR)\n",
    "print(\"CSV_OUT_DIR:\", CSV_OUT_DIR)\n",
    "print(\"FETCH_SCRIPT exists:\", FETCH_SCRIPT.exists())\n",
    "print(\"CSV_SCRIPT exists:\", CSV_SCRIPT.exists())"
   ]
  },
  {
   "cell_type": "code",
   "execution_count": null,
   "id": "606fac3c",
   "metadata": {},
   "outputs": [],
   "source": [
    "# Zugangsdaten laden (.env) – optional für höheres Rate-Limit\n",
    "from dotenv import dotenv_values\n",
    "ENV_PATH = REPO_DIR / \".env\"\n",
    "if ENV_PATH.exists():\n",
    "    env_vals = dotenv_values(str(ENV_PATH))\n",
    "    print(\".env gefunden – Keys:\")\n",
    "    for k in (\"NVD_API_KEY\", \"CONTACT_EMAIL\"):\n",
    "        val = env_vals.get(k)\n",
    "        print(f\"  {k}: {'gesetzt' if val else '—'}\")\n",
    "else:\n",
    "    print(\".env nicht gefunden – es wird ohne API Key gearbeitet (langsameres Rate-Limit).\")"
   ]
  },
  {
   "cell_type": "code",
   "execution_count": null,
   "id": "271d61df",
   "metadata": {},
   "outputs": [],
   "source": [
    "# Fetcher ausführen\n",
    "import subprocess, sys, os\n",
    "\n",
    "print(\"Starte Fetcher … dies kann je nach Netzwerk/Rate-Limit dauern.\")\n",
    "ret = subprocess.run([sys.executable, str(FETCH_SCRIPT)], cwd=str(REPO_DIR))\n",
    "print(\"Fetcher Exit-Code:\", ret.returncode)\n",
    "assert ret.returncode in (0, 130), \"Fetcher fehlgeschlagen\""
   ]
  },
  {
   "cell_type": "code",
   "execution_count": null,
   "id": "daeac388",
   "metadata": {},
   "outputs": [],
   "source": [
    "# Vorverarbeitung / CSV-Export\n",
    "import subprocess, sys\n",
    "\n",
    "print(\"Starte CSV-Export …\")\n",
    "# Skript nutzt interne Config (INPUT/OUT_DIR). Falls anderes Verzeichnis gewünscht, Config im Skript anpassen.\n",
    "ret_csv = subprocess.run([sys.executable, str(CSV_SCRIPT)], cwd=str(REPO_DIR))\n",
    "print(\"CSV Exit-Code:\", ret_csv.returncode)\n",
    "assert ret_csv.returncode == 0, \"CSV-Export fehlgeschlagen\""
   ]
  },
  {
   "cell_type": "code",
   "execution_count": null,
   "id": "6c1f6af6",
   "metadata": {},
   "outputs": [],
   "source": [
    "# Datensatz-Stichprobe anzeigen\n",
    "import pandas as pd\n",
    "from pathlib import Path\n",
    "\n",
    "out_dir = Path(CSV_OUT_DIR)\n",
    "for name in [\"cves_v40.csv\", \"cves_v31.csv\", \"cves_v30.csv\", \"cves_v2.csv\"]:\n",
    "    p = out_dir / name\n",
    "    if p.exists():\n",
    "        print(\"Vorschau:\", name)\n",
    "        display(pd.read_csv(p, nrows=5))\n",
    "    else:\n",
    "        print(\"Nicht gefunden:\", p)"
   ]
  }
 ],
 "metadata": {
  "kernelspec": {
   "display_name": "Python 3.12 (venv)",
   "language": "python",
   "name": "py312"
  },
  "language_info": {
   "codemirror_mode": {
    "name": "ipython",
    "version": 3
   },
   "file_extension": ".py",
   "mimetype": "text/x-python",
   "name": "python",
   "nbconvert_exporter": "python",
   "pygments_lexer": "ipython3",
   "version": "3.12.3"
  }
 },
 "nbformat": 4,
 "nbformat_minor": 5
}
